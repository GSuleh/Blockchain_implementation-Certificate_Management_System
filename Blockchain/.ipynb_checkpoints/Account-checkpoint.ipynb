{
 "cells": [
  {
   "cell_type": "code",
   "execution_count": 117,
   "metadata": {},
   "outputs": [],
   "source": [
    "from KeyPair import *\n",
    "from DigitalSignature import *\n",
    "\n",
    "class Account:\n",
    "    def __init__(self):\n",
    "        self.genAccount()\n",
    "\n",
    "    def genAccount(self):\n",
    "        key_pair = KeyPair()\n",
    "        self.wallet = []\n",
    "        self.balance = 0\n",
    "        self.wallet.append(key_pair.genKeyPair())\n",
    "        self.accountID = self.wallet[0][0]\n",
    "        return self.wallet, self.accountID\n",
    "\n",
    "    def addKeyPairToWallet(self):\n",
    "        self.wallets.append(A.genKeyPair())\n",
    "\n",
    "    def signData(self, msg, index):\n",
    "        Sign = DigitalSignature()\n",
    "        key = self.wallet[index][0]\n",
    "        return Sign.signData(msg, key)\n",
    "\n",
    "    def updateBalance(self, coins):\n",
    "        self.balance = coins\n",
    "\n",
    "    def getBalance(self):\n",
    "        return self.balance\n",
    "\n",
    "    def printBalance(self):\n",
    "        print(\"Balance: \", self.balance)"
   ]
  },
  {
   "cell_type": "code",
   "execution_count": 118,
   "metadata": {},
   "outputs": [],
   "source": [
    "a = Account()"
   ]
  },
  {
   "cell_type": "code",
   "execution_count": 119,
   "metadata": {},
   "outputs": [
    {
     "data": {
      "text/plain": [
       "([('482c2ddf63b917caa7c0dfdc6ba89bda9368e442f4a9e625',\n",
       "   '5868c23d3d557be23a8933757ad7b6190f6c97490e141b7537b940aa00d14f4785cf590936903dde0a5dbaefc26dc103')],\n",
       " '482c2ddf63b917caa7c0dfdc6ba89bda9368e442f4a9e625')"
      ]
     },
     "execution_count": 119,
     "metadata": {},
     "output_type": "execute_result"
    }
   ],
   "source": [
    "a.genAccount()"
   ]
  },
  {
   "cell_type": "code",
   "execution_count": 115,
   "metadata": {},
   "outputs": [
    {
     "data": {
      "text/plain": [
       "0"
      ]
     },
     "execution_count": 115,
     "metadata": {},
     "output_type": "execute_result"
    }
   ],
   "source": [
    "a.balance"
   ]
  },
  {
   "cell_type": "code",
   "execution_count": 116,
   "metadata": {},
   "outputs": [
    {
     "data": {
      "text/plain": [
       "'e338bb9354c47b1b3696355142147730769e8fe06dc444780e109d31956591536b2dfe67b188ec346f53422b5c0ae4cf'"
      ]
     },
     "execution_count": 116,
     "metadata": {},
     "output_type": "execute_result"
    }
   ],
   "source": [
    "a.signData(\"me\",0)"
   ]
  },
  {
   "cell_type": "code",
   "execution_count": null,
   "metadata": {},
   "outputs": [],
   "source": []
  }
 ],
 "metadata": {
  "kernelspec": {
   "display_name": "Python 3",
   "language": "python",
   "name": "python3"
  },
  "language_info": {
   "codemirror_mode": {
    "name": "ipython",
    "version": 3
   },
   "file_extension": ".py",
   "mimetype": "text/x-python",
   "name": "python",
   "nbconvert_exporter": "python",
   "pygments_lexer": "ipython3",
   "version": "3.8.5"
  }
 },
 "nbformat": 4,
 "nbformat_minor": 4
}
