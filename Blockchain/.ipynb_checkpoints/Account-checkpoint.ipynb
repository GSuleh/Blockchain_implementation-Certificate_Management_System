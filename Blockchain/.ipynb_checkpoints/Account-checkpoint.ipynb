{
 "cells": [
  {
   "cell_type": "code",
   "execution_count": 4,
   "metadata": {},
   "outputs": [],
   "source": [
    "from KeyPair import *\n",
    "from DigitalSignature import *"
   ]
  },
  {
   "cell_type": "code",
   "execution_count": 1,
   "metadata": {},
   "outputs": [],
   "source": [
    "class Account:\n",
    "    def __init__(self):\n",
    "        self.genAccount()\n",
    "\n",
    "    def genAccount(self):\n",
    "        key_pair = KeyPair()\n",
    "        self.wallet = []\n",
    "        self.balance = 0\n",
    "        self.wallet.append(key_pair.genKeyPair())\n",
    "        self.accountID = self.wallet[0]\n",
    "        return self.wallet, self.accountID\n",
    "\n",
    "    def addKeyPairToWallet(self):\n",
    "        self.wallets.append(A.genKeyPair())\n",
    "\n",
    "    def signData(self, msg, index):\n",
    "        Sign = Signature()\n",
    "        key = self.wallets[index][1]\n",
    "        return Sign.signData(msg, key)\n",
    "\n",
    "    def updateBalance(self, coins):\n",
    "        self.balance = coins\n",
    "\n",
    "    def getBalance(self):\n",
    "        return self.balance\n",
    "\n",
    "    def printBalance(self):\n",
    "        print(\"Balance: \", self.balance)"
   ]
  },
  {
   "cell_type": "code",
   "execution_count": null,
   "metadata": {},
   "outputs": [],
   "source": []
  }
 ],
 "metadata": {
  "kernelspec": {
   "display_name": "Python 3",
   "language": "python",
   "name": "python3"
  },
  "language_info": {
   "codemirror_mode": {
    "name": "ipython",
    "version": 3
   },
   "file_extension": ".py",
   "mimetype": "text/x-python",
   "name": "python",
   "nbconvert_exporter": "python",
   "pygments_lexer": "ipython3",
   "version": "3.8.5"
  }
 },
 "nbformat": 4,
 "nbformat_minor": 4
}
