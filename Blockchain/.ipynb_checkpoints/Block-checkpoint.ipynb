{
 "cells": [
  {
   "cell_type": "code",
   "execution_count": 116,
   "metadata": {},
   "outputs": [],
   "source": [
    "from Hash import *\n",
    "\n",
    "class Block():\n",
    "\n",
    "    # Create Block\n",
    "    def __init__(self, previous_hash, blockno, transactions):\n",
    "        self.setOfTransactions = transactions\n",
    "        self.prevHash = previous_hash\n",
    "        self.nonce = \"\"\n",
    "        self.time = str(datetime.datetime.now())\n",
    "        self.blockID\n",
    "        self.blockNO = blockno\n",
    "\n",
    "    def blockID(self):\n",
    "        if self.blockNO == 0 or  self.blockNO == None:\n",
    "            return \"Genesis\"\n",
    "        else:\n",
    "            concat = self.prevHash, self.setOfTransactions, self.nonce, self.time\n",
    "            return Hash().toSHA1(str(concat))\n",
    "\n",
    "    def __str__(self):\n",
    "        return (\"Block#: %s Hash: %s Previous Hash: %s Transactions: %s Nonce: %s\\ Time: %s\\ \" % (\n",
    "            self.blockNO, self.blockID(), self.prevHash, self.setOfTransactions, self.nonce, self.time))"
   ]
  },
  {
   "cell_type": "code",
   "execution_count": 117,
   "metadata": {},
   "outputs": [],
   "source": [
    "a = Block(0,1,[])"
   ]
  },
  {
   "cell_type": "code",
   "execution_count": 118,
   "metadata": {},
   "outputs": [
    {
     "data": {
      "text/plain": [
       "'29caaf80dbe9b76e46eae6fc1ae9c19027780b1e'"
      ]
     },
     "execution_count": 118,
     "metadata": {},
     "output_type": "execute_result"
    }
   ],
   "source": [
    "a.blockID()"
   ]
  },
  {
   "cell_type": "code",
   "execution_count": 119,
   "metadata": {},
   "outputs": [
    {
     "data": {
      "text/plain": [
       "'Block#: 1 Hash: 29caaf80dbe9b76e46eae6fc1ae9c19027780b1e Previous Hash: 0 Transactions:\\n[] Nonce: \\n'"
      ]
     },
     "execution_count": 119,
     "metadata": {},
     "output_type": "execute_result"
    }
   ],
   "source": [
    "a.__str__()"
   ]
  },
  {
   "cell_type": "code",
   "execution_count": 120,
   "metadata": {},
   "outputs": [
    {
     "data": {
      "text/plain": [
       "1"
      ]
     },
     "execution_count": 120,
     "metadata": {},
     "output_type": "execute_result"
    }
   ],
   "source": [
    "a.blockNO"
   ]
  },
  {
   "cell_type": "code",
   "execution_count": 121,
   "metadata": {},
   "outputs": [
    {
     "data": {
      "text/plain": [
       "'29caaf80dbe9b76e46eae6fc1ae9c19027780b1e'"
      ]
     },
     "execution_count": 121,
     "metadata": {},
     "output_type": "execute_result"
    }
   ],
   "source": [
    "a.blockID()"
   ]
  },
  {
   "cell_type": "code",
   "execution_count": null,
   "metadata": {},
   "outputs": [],
   "source": []
  }
 ],
 "metadata": {
  "kernelspec": {
   "display_name": "Python 3",
   "language": "python",
   "name": "python3"
  },
  "language_info": {
   "codemirror_mode": {
    "name": "ipython",
    "version": 3
   },
   "file_extension": ".py",
   "mimetype": "text/x-python",
   "name": "python",
   "nbconvert_exporter": "python",
   "pygments_lexer": "ipython3",
   "version": "3.8.5"
  }
 },
 "nbformat": 4,
 "nbformat_minor": 4
}
