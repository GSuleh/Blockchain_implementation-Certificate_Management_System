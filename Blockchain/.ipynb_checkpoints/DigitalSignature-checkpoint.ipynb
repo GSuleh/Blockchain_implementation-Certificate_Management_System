{
 "cells": [
  {
   "cell_type": "code",
   "execution_count": 1,
   "metadata": {},
   "outputs": [
    {
     "name": "stdout",
     "output_type": "stream",
     "text": [
      "Requirement already satisfied: pycoin in c:\\users\\gerry\\anaconda3\\lib\\site-packages (0.92.20220529)\n",
      "Note: you may need to restart the kernel to use updated packages.\n"
     ]
    }
   ],
   "source": [
    "pip install pycoin"
   ]
  },
  {
   "cell_type": "code",
   "execution_count": 2,
   "metadata": {},
   "outputs": [],
   "source": [
    "from pycoin.ecdsa.secp256k1 import secp256k1_generator\n",
    "import hashlib, secrets"
   ]
  },
  {
   "cell_type": "code",
   "execution_count": 3,
   "metadata": {},
   "outputs": [],
   "source": [
    "class digital_signature:\n",
    "    msg: str\n",
    "    public_key: str\n",
    "    private_key: str\n",
    "        \n",
    "    #computes and returns a SHA3-256 hash\n",
    "    def sha3_256Hash(msg):\n",
    "        hashBytes = hashlib.sha3_256(msg.encode(\"utf8\")).digest()\n",
    "        return int.from_bytes(hashBytes, byteorder=\"big\")\n",
    "    \n",
    "    #takes a text message and 256-bit secp256k1 private key and calculates the ECDSA signature {r, s}\n",
    "    #returns it as pair of 256-bit integers.\n",
    "    def signData(self, msg, private_key):\n",
    "        \n",
    "        msgHash = sha3_256Hash(msg)\n",
    "        signature = secp256k1_generator.sign(private_key, msgHash)\n",
    "        return signature\n",
    "    \n",
    "    #takes a text message, a ECDSA signature {r, s} and a 2*256-bit ECDSA public key (uncompressed)\n",
    "    #returns whether the signature is valid or not.\n",
    "    def verifySignature(self, msg, signature, public_key):\n",
    "        \n",
    "        msgHash = sha3_256Hash(msg)\n",
    "        valid = secp256k1_generator.verify(public_key, msgHash, signature)\n",
    "        return valid \n"
   ]
  },
  {
   "cell_type": "code",
   "execution_count": 16,
   "metadata": {},
   "outputs": [
    {
     "name": "stdout",
     "output_type": "stream",
     "text": [
      "Message: Message for ECDSA signing\n",
      "Private key: 0xaf7a07c5499c88a81691a9a09a3bc7a074814143d6cea1fe94787915b2aab2d\n",
      "Signature: r=0x760dbce0e85c92fbe7150d2e4246b67e05d89b5b2583629fb40c62df8d0abfde, s=0xd702a46dea42ae627a93345fc895954eafc8244bfd601bc52c114c8cac359798\n"
     ]
    }
   ],
   "source": [
    "from pycoin.ecdsa.secp256k1 import secp256k1_generator\n",
    "import hashlib, secrets\n",
    "# ECDSA sign message (using the curve secp256k1 + SHA3-256)\n",
    "msg = \"Message for ECDSA signing\"\n",
    "privKey = open(\"private_key.pem\", \"rb\")\n",
    "signature = digital_signature()\n",
    "sign = signature.signData(msg,privKey)\n",
    "print(\"Message:\", msg)\n",
    "print(\"Private key:\", hex(privKey))\n",
    "print(\"Signature: r=\" + hex(sign[0]) + \", s=\" + hex(sign[1]))\n"
   ]
  },
  {
   "cell_type": "code",
   "execution_count": null,
   "metadata": {},
   "outputs": [],
   "source": [
    "# ECDSA verify signature (using the curve secp256k1 + SHA3-256)\n",
    "pubKey = open(\"public_key.pem\", \"rb\")\n",
    "verify = signature.verifySignature(msg, sign, pubKey)\n",
    "print(\"\\nMessage:\", msg)\n",
    "print(\"Public key: (\" + hex(pubKey[0]) + \", \" + hex(pubKey[1]) + \")\")\n",
    "print(\"Signature valid?\", valid)"
   ]
  }
 ],
 "metadata": {
  "kernelspec": {
   "display_name": "Python 3",
   "language": "python",
   "name": "python3"
  },
  "language_info": {
   "codemirror_mode": {
    "name": "ipython",
    "version": 3
   },
   "file_extension": ".py",
   "mimetype": "text/x-python",
   "name": "python",
   "nbconvert_exporter": "python",
   "pygments_lexer": "ipython3",
   "version": "3.8.5"
  }
 },
 "nbformat": 4,
 "nbformat_minor": 4
}
