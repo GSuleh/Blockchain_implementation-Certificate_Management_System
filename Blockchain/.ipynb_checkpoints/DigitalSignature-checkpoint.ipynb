{
 "cells": [
  {
   "cell_type": "code",
   "execution_count": 1,
   "metadata": {},
   "outputs": [],
   "source": [
    "from ecdsa import SigningKey, VerifyingKey, NIST192p\n",
    "\n",
    "# NIST192p private key length is 24 bytes"
   ]
  },
  {
   "cell_type": "code",
   "execution_count": 125,
   "metadata": {},
   "outputs": [],
   "source": [
    "class digital_signature:\n",
    "    msg: str\n",
    "    public_key: str\n",
    "    private_key: str\n",
    "    signature_hex_string: str\n",
    "        \n",
    "    #returns it as str hex digitalsignature.\n",
    "    def signData(self, msg, private_key):\n",
    "        \n",
    "        sk = SigningKey.from_string(bytearray.fromhex(private_key))\n",
    "        signature = sk.sign(msg.encode('utf-8'))\n",
    "        self.signature_hex_string = signature.hex()\n",
    "        \n",
    "        file_out = open(\"digitalsignature.pem\", \"wb\")\n",
    "        file_out.write(self.signature_hex_string.encode('utf-8'))\n",
    "        file_out.close()\n",
    "        \n",
    "        print (\"Signature: \", signature) \n",
    "        print (\"Hex Signature: \", self.signature_hex_string)\n",
    "        \n",
    "    #returns whether the signature is valid or not.\n",
    "    def verifySignature(self, signature, public_key):\n",
    "        \n",
    "        vk = VerifyingKey.from_string(bytearray.fromhex(public_key))\n",
    "        signature = bytearray.fromhex(signature)\n",
    "        print('Verify transmited data', vk.verify(signature, \"Message for ECDSA signing\".encode('utf-8')))\n",
    "\n"
   ]
  },
  {
   "cell_type": "code",
   "execution_count": 123,
   "metadata": {},
   "outputs": [
    {
     "name": "stdout",
     "output_type": "stream",
     "text": [
      "Message: Message for ECDSA signing\n",
      "Private key: b'f0ffe491d4647061747a47e88690a1b4f524824f34b42f46'\n",
      "Signature:  b'&\\x9f\\x0c\\x87\\xefo\\xe7.f!>\\xcfd\\x97\\xca@\\xfc\\xf4\\xb0\\x0bQ\\xb4\\x89\\xa5\\xc2\\x81$t\\xf8\\xb2bQ\\x93\\x8e\\xca\\n\\xa1\\x97\\xa9\\x87v\\xc1\\xe9\\xf4\\xc5\\x0ci1'\n",
      "Hex Signature:  269f0c87ef6fe72e66213ecf6497ca40fcf4b00b51b489a5c2812474f8b26251938eca0aa197a98776c1e9f4c50c6931\n"
     ]
    }
   ],
   "source": [
    "# Sign Message\n",
    "\n",
    "msg = \"Message for ECDSA signing\"\n",
    "privKey = open(\"private_key.pem\", \"rb\")\n",
    "print(\"Message:\", msg)\n",
    "print(\"Private key:\", privKey.read())\n",
    "privKey = open(\"private_key.pem\", \"rb\")\n",
    "signature = digital_signature()\n",
    "sign = signature.signData(msg, privKey.read().decode(encoding=\"utf-8\"))\n"
   ]
  },
  {
   "cell_type": "code",
   "execution_count": 126,
   "metadata": {},
   "outputs": [
    {
     "name": "stdout",
     "output_type": "stream",
     "text": [
      "Public key: b'95ad39f2335db9271550134accb15a3a7ad831c25ac7b5ed1d5901b5fe24c5524518d286db748883e070cc2ddd3f3ddc'\n",
      "Verify transmited data True\n"
     ]
    }
   ],
   "source": [
    "# Verify Message\n",
    "\n",
    "pubKey = open(\"public_key.pem\", \"rb\")\n",
    "print(\"Public key:\", pubKey.read())\n",
    "pubKey = open(\"public_key.pem\", \"rb\")\n",
    "digitalsignature = open(\"digitalsignature.pem\", \"rb\")\n",
    "signature = digital_signature()\n",
    "sign = signature.verifySignature(digitalsignature.read().decode(encoding=\"utf-8\"),pubKey.read().decode(encoding=\"utf-8\"))\n"
   ]
  },
  {
   "cell_type": "code",
   "execution_count": null,
   "metadata": {},
   "outputs": [],
   "source": []
  }
 ],
 "metadata": {
  "kernelspec": {
   "display_name": "Python 3",
   "language": "python",
   "name": "python3"
  },
  "language_info": {
   "codemirror_mode": {
    "name": "ipython",
    "version": 3
   },
   "file_extension": ".py",
   "mimetype": "text/x-python",
   "name": "python",
   "nbconvert_exporter": "python",
   "pygments_lexer": "ipython3",
   "version": "3.8.5"
  }
 },
 "nbformat": 4,
 "nbformat_minor": 4
}
