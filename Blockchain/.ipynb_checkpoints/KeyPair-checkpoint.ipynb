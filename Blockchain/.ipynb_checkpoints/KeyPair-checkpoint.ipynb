{
 "cells": [
  {
   "cell_type": "code",
   "execution_count": 1,
   "metadata": {},
   "outputs": [
    {
     "name": "stdout",
     "output_type": "stream",
     "text": [
      "Requirement already satisfied: tinyec in c:\\users\\gerry\\anaconda3\\lib\\site-packages (0.4.0)\n",
      "Note: you may need to restart the kernel to use updated packages.\n"
     ]
    }
   ],
   "source": [
    "pip install tinyec"
   ]
  },
  {
   "cell_type": "code",
   "execution_count": 21,
   "metadata": {},
   "outputs": [],
   "source": [
    "from tinyec import registry\n",
    "import secrets"
   ]
  },
  {
   "cell_type": "code",
   "execution_count": 25,
   "metadata": {},
   "outputs": [],
   "source": [
    "class KeyPair:\n",
    "    private_key: str\n",
    "    public_key: str\n",
    "\n",
    "\n",
    "    #cryptographic elliptic curve over finite field, along with its generator point G.\n",
    "    def genKeyPair(self):\n",
    "        \n",
    "        def compress_point(point):\n",
    "            return hex(point.x) + hex(point.y % 2)[2:]\n",
    "        \n",
    "        ecc_curve = registry.get_curve('secp256r1')\n",
    "        \n",
    "        #new random private key.\n",
    "        self.private_key = secrets.randbelow(ecc_curve.field.n)\n",
    "        file_out = open(\"private_key.pem\", \"wb\")\n",
    "        file_out.write(str(hex(self.private_key)).encode('utf-8'))\n",
    "        file_out.close()\n",
    "\n",
    "        #private key * generator point G = public key.\n",
    "        self.public_key = self.private_key * ecc_curve.g\n",
    "        file_out = open(\"public_key.pem\", \"wb\")\n",
    "        file_out.write(str(compress_point(self.public_key)).encode('utf-8'))\n",
    "        file_out.close()\n",
    "        \n",
    "        return hex(self.private_key), (self.public_key)\n",
    "    \n",
    "    def printKeyPair(self):\n",
    "        self.private_key = open(\"private_key.pem\", \"rb\")\n",
    "        self.public_key = open(\"public_key.pem\", \"rb\")\n",
    "        print(self.private_key.read())\n",
    "        print(self.public_key.read())\n"
   ]
  },
  {
   "cell_type": "code",
   "execution_count": 10,
   "metadata": {},
   "outputs": [
    {
     "data": {
      "text/plain": [
       "('0x939a53e6351a3e4295c5e9b7200898c8e1850ea81c8b760903ea1dd5e5d33703',\n",
       " '0xb2df6fed10bcb52193ae91e671d8d50c934c6ec08c2b4c4450ee55a396845e281')"
      ]
     },
     "execution_count": 10,
     "metadata": {},
     "output_type": "execute_result"
    }
   ],
   "source": [
    "b = KeyPair()\n",
    "b.genKeyPair()"
   ]
  },
  {
   "cell_type": "code",
   "execution_count": 11,
   "metadata": {},
   "outputs": [
    {
     "name": "stdout",
     "output_type": "stream",
     "text": [
      "b'0x939a53e6351a3e4295c5e9b7200898c8e1850ea81c8b760903ea1dd5e5d33703'\n",
      "b'0xb2df6fed10bcb52193ae91e671d8d50c934c6ec08c2b4c4450ee55a396845e281'\n"
     ]
    }
   ],
   "source": [
    "b.printKeyPair()"
   ]
  },
  {
   "cell_type": "code",
   "execution_count": null,
   "metadata": {},
   "outputs": [],
   "source": []
  }
 ],
 "metadata": {
  "kernelspec": {
   "display_name": "Python 3",
   "language": "python",
   "name": "python3"
  },
  "language_info": {
   "codemirror_mode": {
    "name": "ipython",
    "version": 3
   },
   "file_extension": ".py",
   "mimetype": "text/x-python",
   "name": "python",
   "nbconvert_exporter": "python",
   "pygments_lexer": "ipython3",
   "version": "3.8.5"
  }
 },
 "nbformat": 4,
 "nbformat_minor": 4
}
