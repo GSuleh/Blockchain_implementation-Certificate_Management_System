{
 "cells": [
  {
   "cell_type": "code",
   "execution_count": 38,
   "metadata": {},
   "outputs": [],
   "source": [
    "from Account import *\n",
    "from DigitalSignature import *\n",
    "\n",
    "class Operations:\n",
    "    # Create operation\n",
    "    def __init__(self, sender=Account(), recipient=Account(), amount=0, signature=b''):\n",
    "        self.sender = sender\n",
    "        self.recipient = recipient\n",
    "        self.amount = amount\n",
    "        self.signature = signature\n",
    "        \n",
    "    def getSignature(self):\n",
    "        private_key = open(\"private_key.pem\", \"rb\")\n",
    "        message = \"test\"\n",
    "        dg = DigitalSignature()\n",
    "        self.signature = dg.signData(str(message), private_key.read().decode(encoding=\"utf-8\"))\n",
    "        return self.signature\n",
    "    \n",
    "    def verifySignature(self, signature):\n",
    "        public_key = open(\"public_key.pem\", \"rb\")\n",
    "        message = \"test\"\n",
    "        digitalsignature = signature\n",
    "        signature = DigitalSignature()\n",
    "        sign = signature.verifySignature(message, digitalsignature, public_key.read().decode(encoding=\"utf-8\"))\n",
    "\n",
    "    def createOperation(self):\n",
    "        self.getSignature()\n",
    "        return self.sender.accountID, self.recipient.accountID, self.amount, self.signature\n",
    "    \n",
    "    def verifyOperation(self, signature):\n",
    "        if self.amount < self.sender.balance:\n",
    "            self.verifySignature(signature)\n",
    "        else:\n",
    "            print(\"Insufficient Balance\")"
   ]
  },
  {
   "cell_type": "code",
   "execution_count": 39,
   "metadata": {},
   "outputs": [],
   "source": [
    "a = Operations()"
   ]
  },
  {
   "cell_type": "code",
   "execution_count": 40,
   "metadata": {},
   "outputs": [
    {
     "data": {
      "text/plain": [
       "('7c10e9228430cd89e873d2f0f43875c39a5ca50416f2ee6e',\n",
       " '2db669557911416284f83e723d38625b6bbbedbaf81923a2',\n",
       " 0,\n",
       " '485e413f64e22be32cb4e7731a7da647db7e2042e448a568a1df33e1c41653533d326ecb36435c0f9c7c581866415e17')"
      ]
     },
     "execution_count": 40,
     "metadata": {},
     "output_type": "execute_result"
    }
   ],
   "source": [
    "a.createOperation()"
   ]
  },
  {
   "cell_type": "code",
   "execution_count": 41,
   "metadata": {},
   "outputs": [
    {
     "name": "stdout",
     "output_type": "stream",
     "text": [
      "Insufficient Balance\n"
     ]
    }
   ],
   "source": [
    "# Test for Inssuficient balance\n",
    "a.verifyOperation(a.signature)"
   ]
  },
  {
   "cell_type": "code",
   "execution_count": 42,
   "metadata": {},
   "outputs": [],
   "source": [
    "# Update Balance\n",
    "a.sender.updateBalance(100)"
   ]
  },
  {
   "cell_type": "code",
   "execution_count": 43,
   "metadata": {},
   "outputs": [
    {
     "data": {
      "text/plain": [
       "100"
      ]
     },
     "execution_count": 43,
     "metadata": {},
     "output_type": "execute_result"
    }
   ],
   "source": [
    "# Check Balance\n",
    "a.sender.balance"
   ]
  },
  {
   "cell_type": "code",
   "execution_count": 44,
   "metadata": {},
   "outputs": [
    {
     "name": "stdout",
     "output_type": "stream",
     "text": [
      "Verify transmited data True\n"
     ]
    }
   ],
   "source": [
    "# Test 2 for Insufficient Balance\n",
    "a.verifyOperation(a.signature)"
   ]
  },
  {
   "cell_type": "code",
   "execution_count": null,
   "metadata": {},
   "outputs": [],
   "source": []
  }
 ],
 "metadata": {
  "kernelspec": {
   "display_name": "Python 3",
   "language": "python",
   "name": "python3"
  },
  "language_info": {
   "codemirror_mode": {
    "name": "ipython",
    "version": 3
   },
   "file_extension": ".py",
   "mimetype": "text/x-python",
   "name": "python",
   "nbconvert_exporter": "python",
   "pygments_lexer": "ipython3",
   "version": "3.8.5"
  }
 },
 "nbformat": 4,
 "nbformat_minor": 4
}
