{
 "cells": [
  {
   "cell_type": "code",
   "execution_count": 111,
   "metadata": {},
   "outputs": [],
   "source": [
    "from Hash import *\n",
    "\n",
    "class Block():\n",
    "\n",
    "    # Create Block\n",
    "    def __init__(self, previous_hash, blockno, transactions):\n",
    "        self.setOfTransactions = transactions\n",
    "        self.prevHash = previous_hash\n",
    "        self.nonce = \"\"\n",
    "        self.blockID\n",
    "        self.blockNO = blockno\n",
    "\n",
    "    def blockID(self):\n",
    "        if self.blockNO == 0 or  self.blockNO == None:\n",
    "            return \"Genesis\"\n",
    "        else:\n",
    "            concat = self.prevHash, self.setOfTransactions, self.nonce\n",
    "            return Hash().toSHA1(str(concat))\n",
    "        \n",
    "    def setOfTransactions(self):\n",
    "        if self.setOfTransactions == 0 or  self.setOfTransactions == None:\n",
    "            return None\n",
    "        else:\n",
    "            return self.setOfTransactions\n",
    "\n",
    "    def __str__(self):\n",
    "        return (\"Block#: %s Hash: %s Previous Hash: %s Transactions:\\n%s Nonce: %s\\n\" % (\n",
    "            self.blockNO, self.blockID(), self.prevHash, self.setOfTransactions(), self.nonce))"
   ]
  },
  {
   "cell_type": "code",
   "execution_count": 112,
   "metadata": {},
   "outputs": [],
   "source": [
    "a = Block(0,1,[])"
   ]
  },
  {
   "cell_type": "code",
   "execution_count": 113,
   "metadata": {},
   "outputs": [
    {
     "data": {
      "text/plain": [
       "'29caaf80dbe9b76e46eae6fc1ae9c19027780b1e'"
      ]
     },
     "execution_count": 113,
     "metadata": {},
     "output_type": "execute_result"
    }
   ],
   "source": [
    "a.blockID()"
   ]
  },
  {
   "cell_type": "code",
   "execution_count": 114,
   "metadata": {},
   "outputs": [
    {
     "ename": "TypeError",
     "evalue": "'list' object is not callable",
     "output_type": "error",
     "traceback": [
      "\u001b[1;31m---------------------------------------------------------------------------\u001b[0m",
      "\u001b[1;31mTypeError\u001b[0m                                 Traceback (most recent call last)",
      "\u001b[1;32m<ipython-input-114-62a12d999735>\u001b[0m in \u001b[0;36m<module>\u001b[1;34m\u001b[0m\n\u001b[1;32m----> 1\u001b[1;33m \u001b[0ma\u001b[0m\u001b[1;33m.\u001b[0m\u001b[0m__str__\u001b[0m\u001b[1;33m(\u001b[0m\u001b[1;33m)\u001b[0m\u001b[1;33m\u001b[0m\u001b[1;33m\u001b[0m\u001b[0m\n\u001b[0m",
      "\u001b[1;32m<ipython-input-111-852a2ad645df>\u001b[0m in \u001b[0;36m__str__\u001b[1;34m(self)\u001b[0m\n\u001b[0;32m     26\u001b[0m     \u001b[1;32mdef\u001b[0m \u001b[0m__str__\u001b[0m\u001b[1;33m(\u001b[0m\u001b[0mself\u001b[0m\u001b[1;33m)\u001b[0m\u001b[1;33m:\u001b[0m\u001b[1;33m\u001b[0m\u001b[1;33m\u001b[0m\u001b[0m\n\u001b[0;32m     27\u001b[0m         return (\"Block#: %s Hash: %s Previous Hash: %s Transactions:\\n%s Nonce: %s\\n\" % (\n\u001b[1;32m---> 28\u001b[1;33m             self.blockNO, self.blockID(), self.prevHash, self.setOfTransactions(), self.nonce))\n\u001b[0m",
      "\u001b[1;31mTypeError\u001b[0m: 'list' object is not callable"
     ]
    }
   ],
   "source": [
    "a.__str__()"
   ]
  },
  {
   "cell_type": "code",
   "execution_count": 115,
   "metadata": {},
   "outputs": [
    {
     "data": {
      "text/plain": [
       "1"
      ]
     },
     "execution_count": 115,
     "metadata": {},
     "output_type": "execute_result"
    }
   ],
   "source": [
    "a.blockNO"
   ]
  },
  {
   "cell_type": "code",
   "execution_count": 93,
   "metadata": {},
   "outputs": [
    {
     "data": {
      "text/plain": [
       "'29caaf80dbe9b76e46eae6fc1ae9c19027780b1e'"
      ]
     },
     "execution_count": 93,
     "metadata": {},
     "output_type": "execute_result"
    }
   ],
   "source": [
    "a.blockID()"
   ]
  },
  {
   "cell_type": "code",
   "execution_count": null,
   "metadata": {},
   "outputs": [],
   "source": []
  }
 ],
 "metadata": {
  "kernelspec": {
   "display_name": "Python 3",
   "language": "python",
   "name": "python3"
  },
  "language_info": {
   "codemirror_mode": {
    "name": "ipython",
    "version": 3
   },
   "file_extension": ".py",
   "mimetype": "text/x-python",
   "name": "python",
   "nbconvert_exporter": "python",
   "pygments_lexer": "ipython3",
   "version": "3.8.5"
  }
 },
 "nbformat": 4,
 "nbformat_minor": 4
}
