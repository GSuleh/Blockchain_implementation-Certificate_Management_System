{
 "cells": [
  {
   "cell_type": "code",
   "execution_count": 55,
   "metadata": {},
   "outputs": [],
   "source": [
    "from Block import *\n",
    "from Account import *\n",
    "\n",
    "class Blockchain():\n",
    "    difficulty = 1;\n",
    "    # Genesis Block  and set its hash to \"0\"\n",
    "    def __init__(self):\n",
    "        self.blockHistory = []\n",
    "        self.txDatabase = []\n",
    "        self.coinDatabase = []\n",
    "        self.faucet = 1000000\n",
    "        \n",
    "\n",
    "    def initBlockchain(self, block):\n",
    "        self.blockHistory.append(block)\n",
    "\n",
    "    def mineBlock(self, block):\n",
    "        try:\n",
    "            block.prevhash = self.blockHistory[-1].blockID()\n",
    "        except IndexError:\n",
    "            pass\n",
    "\n",
    "        while True:\n",
    "            if block.blockID()[:self.difficulty] == '0' * self.difficulty:\n",
    "                self.initBlockchain(block)\n",
    "                break\n",
    "            else:\n",
    "                block.nonce += 1\n",
    "\n",
    "    def validateBlock(self):\n",
    "        for i in range(2, len(self.blockHistory)):\n",
    "            prev = self.blockHistory[i].prevhash\n",
    "            current = self.blockHistory[i - 1].blockID()\n",
    "            tx = self.blockHistory[i].transactions\n",
    "            if prev != current or current[:self.difficulty] != '0' * self.difficulty and tx == tx:\n",
    "                return False\n",
    "\n",
    "        return True\n",
    "\n",
    "    def getTokenFromFaucet(self, account, amount):\n",
    "        self.faucet -= amount\n",
    "        account.amount = amount\n",
    "        return (\"Account: %s Amount: %s\" % (account.accountID, amount))\n",
    "\n",
    "    def __str__(self):\n",
    "        return (\"Blockhistory: %s\" % (self.blockHistory))"
   ]
  },
  {
   "cell_type": "code",
   "execution_count": 56,
   "metadata": {},
   "outputs": [],
   "source": [
    "a= Account()\n",
    "b = Blockchain()"
   ]
  },
  {
   "cell_type": "code",
   "execution_count": 57,
   "metadata": {},
   "outputs": [
    {
     "data": {
      "text/plain": [
       "0"
      ]
     },
     "execution_count": 57,
     "metadata": {},
     "output_type": "execute_result"
    }
   ],
   "source": [
    "a.balance"
   ]
  },
  {
   "cell_type": "code",
   "execution_count": 58,
   "metadata": {},
   "outputs": [
    {
     "data": {
      "text/plain": [
       "1000000"
      ]
     },
     "execution_count": 58,
     "metadata": {},
     "output_type": "execute_result"
    }
   ],
   "source": [
    "b.faucet"
   ]
  },
  {
   "cell_type": "code",
   "execution_count": 59,
   "metadata": {},
   "outputs": [
    {
     "data": {
      "text/plain": [
       "'Account: 5e2dbadf2cac08c7ba4d21b89ba32e64cd17d355e9a80efa Amount: 100'"
      ]
     },
     "execution_count": 59,
     "metadata": {},
     "output_type": "execute_result"
    }
   ],
   "source": [
    "b.getTokenFromFaucet(a,100)"
   ]
  },
  {
   "cell_type": "code",
   "execution_count": 60,
   "metadata": {},
   "outputs": [
    {
     "data": {
      "text/plain": [
       "999900"
      ]
     },
     "execution_count": 60,
     "metadata": {},
     "output_type": "execute_result"
    }
   ],
   "source": [
    "b.faucet"
   ]
  },
  {
   "cell_type": "code",
   "execution_count": 66,
   "metadata": {},
   "outputs": [],
   "source": [
    "d = Block(0,0,[])\n",
    "c = Block(0,1,[])\n"
   ]
  },
  {
   "cell_type": "code",
   "execution_count": 67,
   "metadata": {},
   "outputs": [],
   "source": [
    "b.initBlockchain(d)\n",
    "b.initBlockchain(c)"
   ]
  },
  {
   "cell_type": "code",
   "execution_count": 68,
   "metadata": {},
   "outputs": [
    {
     "data": {
      "text/plain": [
       "'Blockhistory: [<Block.Block object at 0x000001E93B63F040>, <Block.Block object at 0x000001E93B63F370>, <Block.Block object at 0x000001E93B63F790>]'"
      ]
     },
     "execution_count": 68,
     "metadata": {},
     "output_type": "execute_result"
    }
   ],
   "source": [
    "b.__str__()"
   ]
  },
  {
   "cell_type": "code",
   "execution_count": null,
   "metadata": {},
   "outputs": [],
   "source": []
  }
 ],
 "metadata": {
  "kernelspec": {
   "display_name": "Python 3",
   "language": "python",
   "name": "python3"
  },
  "language_info": {
   "codemirror_mode": {
    "name": "ipython",
    "version": 3
   },
   "file_extension": ".py",
   "mimetype": "text/x-python",
   "name": "python",
   "nbconvert_exporter": "python",
   "pygments_lexer": "ipython3",
   "version": "3.8.5"
  }
 },
 "nbformat": 4,
 "nbformat_minor": 4
}
