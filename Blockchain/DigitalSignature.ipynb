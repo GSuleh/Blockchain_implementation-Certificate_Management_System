{
 "cells": [
  {
   "cell_type": "code",
   "execution_count": 144,
   "metadata": {},
   "outputs": [],
   "source": [
    "from ecdsa import SigningKey, VerifyingKey, NIST192p\n",
    "from hashlib import sha256\n",
    "# NIST192p private key length is 24 bytes"
   ]
  },
  {
   "cell_type": "code",
   "execution_count": 171,
   "metadata": {},
   "outputs": [],
   "source": [
    "class digital_signature:\n",
    "    msg: str\n",
    "    public_key: str\n",
    "    private_key: str\n",
    "    signature_hex_string: str\n",
    "        \n",
    "                             \n",
    "    #returns it as str hex digitalsignature.\n",
    "    def signData(self, msg, private_key):\n",
    "        \n",
    "        msgHash = sha256(msg.encode('utf-8')).digest()\n",
    "        sk = SigningKey.from_string(bytearray.fromhex(private_key))\n",
    "        signature = sk.sign(msgHash)\n",
    "        self.signature_hex_string = str(signature.hex())\n",
    "        \n",
    "        file_out = open(\"digitalsignature.pem\", \"wb\")\n",
    "        file_out.write(self.signature_hex_string.encode('utf-8'))\n",
    "        file_out.close()\n",
    "        \n",
    "        print (\"Signature: \", signature) \n",
    "        print (\"Hex Signature: \", self.signature_hex_string)\n",
    "        \n",
    "    #returns whether the signature is valid or not.\n",
    "    def verifySignature(self, msg, signature, public_key):\n",
    "        msgHash = sha256(msg.encode('utf-8')).digest()\n",
    "        vk = VerifyingKey.from_string(bytearray.fromhex(public_key))\n",
    "        signature = bytearray.fromhex(signature)\n",
    "        print('Verify transmited data', vk.verify(signature, msgHash))\n",
    "\n"
   ]
  },
  {
   "cell_type": "code",
   "execution_count": 168,
   "metadata": {},
   "outputs": [
    {
     "name": "stdout",
     "output_type": "stream",
     "text": [
      "Message: Message for ECDSA signing\n",
      "Private key: b'f0ffe491d4647061747a47e88690a1b4f524824f34b42f46'\n",
      "Signature:  b'\\t\\xa2u\\x15\\xe5\\x93fv\\x96\\xfcqd\\xe3\\x96\\xfb\\x99\\xd0f\\xb0\\xc0\\xad\\xb0\\xee\\xd7`\\xbbo\\xb6\\x9f\"\\xbf\\xcb\\n\\x10WRL\\x17k\\x12\\x11\\xcc\\xd7\\x83\\xc1\\'<m'\n",
      "Hex Signature:  09a27515e593667696fc7164e396fb99d066b0c0adb0eed760bb6fb69f22bfcb0a1057524c176b1211ccd783c1273c6d\n"
     ]
    }
   ],
   "source": [
    "# Sign Message\n",
    "\n",
    "msg = \"Message for ECDSA signing\"\n",
    "privKey = open(\"private_key.pem\", \"rb\")\n",
    "print(\"Message:\", msg)\n",
    "print(\"Private key:\", privKey.read())\n",
    "privKey = open(\"private_key.pem\", \"rb\")\n",
    "signature = digital_signature()\n",
    "sign = signature.signData(msg, privKey.read().decode(encoding=\"utf-8\"))\n"
   ]
  },
  {
   "cell_type": "code",
   "execution_count": 172,
   "metadata": {},
   "outputs": [
    {
     "name": "stdout",
     "output_type": "stream",
     "text": [
      "Public key: b'95ad39f2335db9271550134accb15a3a7ad831c25ac7b5ed1d5901b5fe24c5524518d286db748883e070cc2ddd3f3ddc'\n",
      "Verify transmited data True\n"
     ]
    }
   ],
   "source": [
    "# Verify Message\n",
    "\n",
    "pubKey = open(\"public_key.pem\", \"rb\")\n",
    "print(\"Public key:\", pubKey.read())\n",
    "pubKey = open(\"public_key.pem\", \"rb\")\n",
    "digitalsignature = open(\"digitalsignature.pem\", \"rb\")\n",
    "signature = digital_signature()\n",
    "sign = signature.verifySignature(msg, digitalsignature.read().decode(encoding=\"utf-8\"), pubKey.read().decode(encoding=\"utf-8\"))\n"
   ]
  },
  {
   "cell_type": "code",
   "execution_count": null,
   "metadata": {},
   "outputs": [],
   "source": []
  }
 ],
 "metadata": {
  "kernelspec": {
   "display_name": "Python 3",
   "language": "python",
   "name": "python3"
  },
  "language_info": {
   "codemirror_mode": {
    "name": "ipython",
    "version": 3
   },
   "file_extension": ".py",
   "mimetype": "text/x-python",
   "name": "python",
   "nbconvert_exporter": "python",
   "pygments_lexer": "ipython3",
   "version": "3.8.5"
  }
 },
 "nbformat": 4,
 "nbformat_minor": 4
}
