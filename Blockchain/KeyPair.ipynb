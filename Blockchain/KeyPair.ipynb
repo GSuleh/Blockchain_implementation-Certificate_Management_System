{
 "cells": [
  {
   "cell_type": "code",
   "execution_count": 2,
   "metadata": {},
   "outputs": [
    {
     "name": "stdout",
     "output_type": "stream",
     "text": [
      "Collecting ecdsa\n",
      "  Downloading ecdsa-0.18.0-py2.py3-none-any.whl (142 kB)\n",
      "Requirement already satisfied: six>=1.9.0 in c:\\users\\gerry\\anaconda3\\lib\\site-packages (from ecdsa) (1.15.0)\n",
      "Installing collected packages: ecdsa\n",
      "Successfully installed ecdsa-0.18.0\n",
      "Note: you may need to restart the kernel to use updated packages.\n"
     ]
    }
   ],
   "source": [
    "pip install ecdsa"
   ]
  },
  {
   "cell_type": "code",
   "execution_count": 3,
   "metadata": {},
   "outputs": [],
   "source": [
    "from ecdsa import SigningKey, VerifyingKey, NIST192p\n",
    "\n",
    "# NIST192p private key length is 24 bytes\n",
    "# Third party library https://pypi.org/project/ecdsa/"
   ]
  },
  {
   "cell_type": "code",
   "execution_count": 15,
   "metadata": {},
   "outputs": [],
   "source": [
    "class KeyPair:\n",
    "    private_key_sk: str\n",
    "    public_key_vk: str\n",
    "\n",
    "        \n",
    "    def genKeyPair(self):\n",
    "        \n",
    "        #new random private key. Used for signing\n",
    "        self.private_key_sk = SigningKey.generate(curve=NIST192p)\n",
    "        file_out = open(\"private_key.pem\", \"wb\")\n",
    "        file_out.write(self.private_key_sk.to_string().hex().encode('utf-8'))\n",
    "        file_out.close()\n",
    "\n",
    "        #public key. Used for verification\n",
    "        self.public_key_vk = self.private_key_sk.verifying_key.to_string().hex()\n",
    "        file_out = open(\"public_key.pem\", \"wb\")\n",
    "        file_out.write(str(self.public_key_vk).encode('utf-8'))\n",
    "        file_out.close()\n",
    "        \n",
    "        return self.private_key_sk.to_string().hex(), (self.public_key_vk)\n",
    "    \n",
    "    def printKeyPair(self):\n",
    "        self.private_key = open(\"private_key.pem\", \"rb\")\n",
    "        self.public_key = open(\"public_key.pem\", \"rb\")\n",
    "        print(self.private_key.read())\n",
    "        print(self.public_key.read())\n"
   ]
  },
  {
   "cell_type": "code",
   "execution_count": 16,
   "metadata": {},
   "outputs": [
    {
     "data": {
      "text/plain": [
       "('f0ffe491d4647061747a47e88690a1b4f524824f34b42f46',\n",
       " '95ad39f2335db9271550134accb15a3a7ad831c25ac7b5ed1d5901b5fe24c5524518d286db748883e070cc2ddd3f3ddc')"
      ]
     },
     "execution_count": 16,
     "metadata": {},
     "output_type": "execute_result"
    }
   ],
   "source": [
    "b = KeyPair()\n",
    "b.genKeyPair()"
   ]
  },
  {
   "cell_type": "code",
   "execution_count": 17,
   "metadata": {},
   "outputs": [
    {
     "name": "stdout",
     "output_type": "stream",
     "text": [
      "b'f0ffe491d4647061747a47e88690a1b4f524824f34b42f46'\n",
      "b'95ad39f2335db9271550134accb15a3a7ad831c25ac7b5ed1d5901b5fe24c5524518d286db748883e070cc2ddd3f3ddc'\n"
     ]
    }
   ],
   "source": [
    "b.printKeyPair()"
   ]
  },
  {
   "cell_type": "code",
   "execution_count": null,
   "metadata": {},
   "outputs": [],
   "source": []
  }
 ],
 "metadata": {
  "kernelspec": {
   "display_name": "Python 3",
   "language": "python",
   "name": "python3"
  },
  "language_info": {
   "codemirror_mode": {
    "name": "ipython",
    "version": 3
   },
   "file_extension": ".py",
   "mimetype": "text/x-python",
   "name": "python",
   "nbconvert_exporter": "python",
   "pygments_lexer": "ipython3",
   "version": "3.8.5"
  }
 },
 "nbformat": 4,
 "nbformat_minor": 4
}
