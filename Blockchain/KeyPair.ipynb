{
 "cells": [
  {
   "cell_type": "code",
   "execution_count": 2,
   "metadata": {},
   "outputs": [
    {
     "name": "stdout",
     "output_type": "stream",
     "text": [
      "Collecting ecdsa\n",
      "  Downloading ecdsa-0.18.0-py2.py3-none-any.whl (142 kB)\n",
      "Requirement already satisfied: six>=1.9.0 in c:\\users\\gerry\\anaconda3\\lib\\site-packages (from ecdsa) (1.15.0)\n",
      "Installing collected packages: ecdsa\n",
      "Successfully installed ecdsa-0.18.0\n",
      "Note: you may need to restart the kernel to use updated packages.\n"
     ]
    }
   ],
   "source": [
    "pip install ecdsa"
   ]
  },
  {
   "cell_type": "code",
   "execution_count": 3,
   "metadata": {},
   "outputs": [],
   "source": [
    "from ecdsa import SigningKey, VerifyingKey, NIST192p\n",
    "\n",
    "# NIST192p private key length is 24 bytes\n",
    "# Third party library https://pypi.org/project/ecdsa/"
   ]
  },
  {
   "cell_type": "code",
   "execution_count": 12,
   "metadata": {},
   "outputs": [],
   "source": [
    "class KeyPair:\n",
    "    private_key_sk: str\n",
    "    public_key_vk: str\n",
    "\n",
    "        \n",
    "    def genKeyPair(self):\n",
    "        \n",
    "        #new random private key. Used for signing\n",
    "        self.private_key_sk = SigningKey.generate(curve=NIST192p)\n",
    "        file_out = open(\"private_key.pem\", \"wb\")\n",
    "        file_out.write(self.private_key_sk.to_string().hex().encode('utf-8'))\n",
    "        file_out.close()\n",
    "\n",
    "        #public key. Used for verification\n",
    "        self.public_key_vk = self.private_key_sk.verifying_key.to_string().hex()\n",
    "        file_out = open(\"public_key.pem\", \"wb\")\n",
    "        file_out.write(str(self.public_key_vk).encode('utf-8'))\n",
    "        file_out.close()\n",
    "        \n",
    "        return self.private_key_sk.to_string().hex(), (self.public_key_vk)\n",
    "    \n",
    "    def printKeyPair(self):\n",
    "        self.private_key = open(\"private_key.pem\", \"rb\")\n",
    "        self.public_key = open(\"public_key.pem\", \"rb\")\n",
    "        print(self.private_key.read())\n",
    "        print(self.public_key.read())\n"
   ]
  },
  {
   "cell_type": "code",
   "execution_count": 13,
   "metadata": {},
   "outputs": [
    {
     "data": {
      "text/plain": [
       "('2a298bfa71396a471779a96cbc520257e6171ef19ae79aaf',\n",
       " 'f2ac21614981b658cf95ef97216fc4c9ff2739e55d0fe0594e43d1fc624422b2b056407190e810898eb09a426b501658')"
      ]
     },
     "execution_count": 13,
     "metadata": {},
     "output_type": "execute_result"
    }
   ],
   "source": [
    "b = KeyPair()\n",
    "b.genKeyPair()"
   ]
  },
  {
   "cell_type": "code",
   "execution_count": 11,
   "metadata": {},
   "outputs": [
    {
     "name": "stdout",
     "output_type": "stream",
     "text": [
      "b'0x939a53e6351a3e4295c5e9b7200898c8e1850ea81c8b760903ea1dd5e5d33703'\n",
      "b'0xb2df6fed10bcb52193ae91e671d8d50c934c6ec08c2b4c4450ee55a396845e281'\n"
     ]
    }
   ],
   "source": [
    "b.printKeyPair()"
   ]
  },
  {
   "cell_type": "code",
   "execution_count": null,
   "metadata": {},
   "outputs": [],
   "source": []
  }
 ],
 "metadata": {
  "kernelspec": {
   "display_name": "Python 3",
   "language": "python",
   "name": "python3"
  },
  "language_info": {
   "codemirror_mode": {
    "name": "ipython",
    "version": 3
   },
   "file_extension": ".py",
   "mimetype": "text/x-python",
   "name": "python",
   "nbconvert_exporter": "python",
   "pygments_lexer": "ipython3",
   "version": "3.8.5"
  }
 },
 "nbformat": 4,
 "nbformat_minor": 4
}
