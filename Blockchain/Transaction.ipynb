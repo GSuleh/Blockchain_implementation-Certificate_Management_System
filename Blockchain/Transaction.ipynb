{
 "cells": [
  {
   "cell_type": "code",
   "execution_count": 21,
   "metadata": {},
   "outputs": [],
   "source": [
    "import collections\n",
    "from hashlib import sha256\n",
    "\n",
    "class Transaction:\n",
    "\n",
    "    def __init__(self, transaction=[], nonce=0):\n",
    "        self.transaction = transaction\n",
    "        self.nonce = nonce\n",
    "\n",
    "    def createOperation(self, transaction, nonce):\n",
    "        t = self.transaction, self.nonce\n",
    "        return collections.OrderedDict({\n",
    "            'transactionId': sha256(str(t).encode('utf-8')).digest().hex(),\n",
    "            'Tansactions': transaction,\n",
    "            'nonce': nonce})\n"
   ]
  },
  {
   "cell_type": "code",
   "execution_count": 22,
   "metadata": {},
   "outputs": [],
   "source": [
    "a = Transaction()"
   ]
  },
  {
   "cell_type": "code",
   "execution_count": 23,
   "metadata": {},
   "outputs": [
    {
     "data": {
      "text/plain": [
       "OrderedDict([('transactionId',\n",
       "              '078c4414e8299d5b4df50c2a690b329319826cffa6356472a36fc0ad6106f58a'),\n",
       "             ('Tansactions',\n",
       "              ('4c3893b17c18b30bd4fb95cb7bddfc5655d3a053e27beedf',\n",
       "               '26b085c9b4f7c31096867be9745ef8be844b482487c4b5d5',\n",
       "               0,\n",
       "               '9f1693e659f672717d4ff1d53c8749cc6977ddb2f3d7cb4ba568088f5a87ac34f3868823b40f8f68f5fe48c66a816af5')),\n",
       "             ('nonce', 0)])"
      ]
     },
     "execution_count": 23,
     "metadata": {},
     "output_type": "execute_result"
    }
   ],
   "source": [
    "from Operations import *\n",
    "\n",
    "op = Operations()\n",
    "a.createOperation(op.createOperation(), 0)"
   ]
  },
  {
   "cell_type": "code",
   "execution_count": null,
   "metadata": {},
   "outputs": [],
   "source": []
  }
 ],
 "metadata": {
  "kernelspec": {
   "display_name": "Python 3",
   "language": "python",
   "name": "python3"
  },
  "language_info": {
   "codemirror_mode": {
    "name": "ipython",
    "version": 3
   },
   "file_extension": ".py",
   "mimetype": "text/x-python",
   "name": "python",
   "nbconvert_exporter": "python",
   "pygments_lexer": "ipython3",
   "version": "3.8.5"
  }
 },
 "nbformat": 4,
 "nbformat_minor": 4
}
