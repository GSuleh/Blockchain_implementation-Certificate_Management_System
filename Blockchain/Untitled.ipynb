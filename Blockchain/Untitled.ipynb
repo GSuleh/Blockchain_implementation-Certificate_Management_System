{
 "cells": [
  {
   "cell_type": "code",
   "execution_count": null,
   "metadata": {},
   "outputs": [],
   "source": [
    "class Block():\n",
    "    blockID = None\n",
    "    prevHash = \"0\" * 64\n",
    "    setOfTransactions = None\n",
    "    nonce = 0\n",
    "\n",
    "    def __init__(self, transactions, number=0):\n",
    "        self.transactions = transactions\n",
    "        self.number = number\n",
    "\n",
    "    def blockID(self):\n",
    "        if self.number == 0:\n",
    "            return \"Genesis\"\n",
    "        else:\n",
    "            return HASH().SHA1(self.number, self.previous_hash, self.transactions, self.nonce)\n",
    "\n",
    "    def __str__(self):\n",
    "        return (\"Block#: %s\\nHash: %s\\nPrevious Hash: %s\\nTransactions:\\n%s\\nNonce: %s\\n\" % (\n",
    "            self.number, self.blockID(), self.previous_hash, self.transactions, self.nonce))"
   ]
  }
 ],
 "metadata": {
  "kernelspec": {
   "display_name": "Python 3",
   "language": "python",
   "name": "python3"
  },
  "language_info": {
   "codemirror_mode": {
    "name": "ipython",
    "version": 3
   },
   "file_extension": ".py",
   "mimetype": "text/x-python",
   "name": "python",
   "nbconvert_exporter": "python",
   "pygments_lexer": "ipython3",
   "version": "3.8.5"
  }
 },
 "nbformat": 4,
 "nbformat_minor": 4
}
